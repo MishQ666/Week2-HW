{
 "cells": [
  {
   "cell_type": "code",
   "execution_count": 2,
   "id": "debdc839-9cb2-439c-b044-dee4399ef232",
   "metadata": {
    "jupyter": {
     "source_hidden": true
    },
    "scrolled": true,
    "tags": []
   },
   "outputs": [],
   "source": [
    "#Your task is to create a Python script that analyzes the records to calculate each of the following:\n",
    "\n",
    "#The total number of months included in the dataset.\n",
    "\n",
    "#The average of the changes in Profit/Losses over the entire period.\n",
    "\n",
    "#The greatest increase in profits (date and amount) over the entire period.\n",
    "\n",
    "#The greatest decrease in losses (date and amount) over the entire period."
   ]
  },
  {
   "cell_type": "code",
   "execution_count": 1,
   "id": "963995cc-1e77-42bb-8a30-32bb70b9ef17",
   "metadata": {},
   "outputs": [
    {
     "ename": "TypeError",
     "evalue": "'int' object is not iterable",
     "output_type": "error",
     "traceback": [
      "\u001b[1;31m---------------------------------------------------------------------------\u001b[0m",
      "\u001b[1;31mTypeError\u001b[0m                                 Traceback (most recent call last)",
      "\u001b[1;32m<ipython-input-1-8f52697bd637>\u001b[0m in \u001b[0;36m<module>\u001b[1;34m\u001b[0m\n\u001b[0;32m     37\u001b[0m         \u001b[0mpre_net\u001b[0m\u001b[1;33m=\u001b[0m\u001b[0mint\u001b[0m\u001b[1;33m(\u001b[0m\u001b[0mrow\u001b[0m\u001b[1;33m[\u001b[0m\u001b[1;36m1\u001b[0m\u001b[1;33m]\u001b[0m\u001b[1;33m)\u001b[0m\u001b[1;33m\u001b[0m\u001b[1;33m\u001b[0m\u001b[0m\n\u001b[0;32m     38\u001b[0m \u001b[1;33m\u001b[0m\u001b[0m\n\u001b[1;32m---> 39\u001b[1;33m         \u001b[0mnet_monthly_avg\u001b[0m\u001b[1;33m=\u001b[0m\u001b[0mround\u001b[0m\u001b[1;33m(\u001b[0m\u001b[0msum\u001b[0m\u001b[1;33m(\u001b[0m\u001b[0mnet_change\u001b[0m\u001b[1;33m)\u001b[0m\u001b[1;33m/\u001b[0m\u001b[0mlen\u001b[0m\u001b[1;33m(\u001b[0m\u001b[0mnet_change\u001b[0m\u001b[1;33m)\u001b[0m\u001b[1;33m,\u001b[0m\u001b[1;36m2\u001b[0m\u001b[1;33m)\u001b[0m\u001b[1;33m\u001b[0m\u001b[1;33m\u001b[0m\u001b[0m\n\u001b[0m\u001b[0;32m     40\u001b[0m \u001b[1;33m\u001b[0m\u001b[0m\n\u001b[0;32m     41\u001b[0m         \u001b[1;31m#The greatest increase in profits (date and amount) over the entire period.\u001b[0m\u001b[1;33m\u001b[0m\u001b[1;33m\u001b[0m\u001b[1;33m\u001b[0m\u001b[0m\n",
      "\u001b[1;31mTypeError\u001b[0m: 'int' object is not iterable"
     ]
    }
   ],
   "source": [
    "# Import the pathlib and csv library\n",
    "from pathlib import Path\n",
    "import csv\n",
    "\n",
    "# Set the file path\n",
    "csv_path = Path('budget_data.csv')\n",
    "\n",
    "# Initialize variable to hold total uumber of months:\n",
    "total_months = 0\n",
    "\n",
    "# Initialize total_net profit variable\n",
    "total_net_pnl = 0\n",
    "greatest_decrease=0\n",
    "greatest_increase=0\n",
    "\n",
    "# Open the input path as a file object\n",
    "with open(csv_path, 'r') as csvfile:\n",
    "\n",
    "# Pass in the csv file to the csv.reader() function\n",
    "# (with ',' as the delmiter/separator) and return the csvreader object\n",
    "    csvreader = csv.reader(csvfile, delimiter=',')\n",
    "\n",
    "    # Go to the next row from the start of the file\n",
    "    header = next(csvreader)\n",
    "\n",
    "     # Read each row of data after the header\n",
    "    row=next(csvreader)\n",
    "    pre_net=int(row[1])\n",
    "    total_months+= 1\n",
    "    total_net_pnl = total_net_pnl + int(row[1])\n",
    "\n",
    "     #The total number of months included in the dataset.\n",
    "    for row in csvreader:\n",
    "        \n",
    "        #net_change\n",
    "        net_change=int(row[1])-pre_net\n",
    "        pre_net=int(row[1])\n",
    "        \n",
    "        net_monthly_avg=round(sum(net_change)/len(net_change),2)\n",
    "\n",
    "        #The greatest increase in profits (date and amount) over the entire period.\n",
    "        if net_change > greatest_increase[1]:\n",
    "            greatest_increase[0] = row[0]\n",
    "            greatest_increase[1] = net_change\n",
    "\n",
    "       #The greatest decrease in losses (date and amount) over the entire period.       \n",
    "        if net_change > greatest_decrease[1]:\n",
    "            greatest_decrease[0]=row[0]\n",
    "            greatest_decrease[1]=net_change\n",
    "        \n",
    "#export answers: \n",
    "with open(answer,\"w\") as answers:\n",
    "    answers.write(f\"financial analysist\\n\")\n",
    "    answers.write(f\"-------------------\\n\")\n",
    "    answers.write(f\"Total months:${total_months}\\n\")\n",
    "    answers.write(f\"Average  Change: ${total_net_pnl}\\n\")\n",
    "    answers.write(f\"Greatest Increase in Profits: {greatest_increase[0]} {greatest_increase[1]}\\n\")\n",
    "    answers.write(f\"Greatest Decrease in Profits: {greatest_decrease[0]} {greatest_decrease[1]}\\n\")\n",
    "    "
   ]
  },
  {
   "cell_type": "code",
   "execution_count": null,
   "id": "91d3d1f7-e1e6-4e75-9f1b-e7d23395c3d7",
   "metadata": {},
   "outputs": [],
   "source": []
  },
  {
   "cell_type": "code",
   "execution_count": null,
   "id": "fea663a2-3672-4ad9-8f5e-50a1803f51cd",
   "metadata": {},
   "outputs": [],
   "source": []
  },
  {
   "cell_type": "code",
   "execution_count": null,
   "id": "97098d0b-7daf-4983-940f-4485f44688b3",
   "metadata": {},
   "outputs": [],
   "source": []
  }
 ],
 "metadata": {
  "kernelspec": {
   "display_name": "Python 3",
   "language": "python",
   "name": "python3"
  },
  "language_info": {
   "codemirror_mode": {
    "name": "ipython",
    "version": 3
   },
   "file_extension": ".py",
   "mimetype": "text/x-python",
   "name": "python",
   "nbconvert_exporter": "python",
   "pygments_lexer": "ipython3",
   "version": "3.8.8"
  }
 },
 "nbformat": 4,
 "nbformat_minor": 5
}
