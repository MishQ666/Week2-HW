{
 "cells": [
  {
   "cell_type": "code",
   "execution_count": 2,
   "id": "debdc839-9cb2-439c-b044-dee4399ef232",
   "metadata": {
    "jupyter": {
     "source_hidden": true
    },
    "scrolled": true,
    "tags": []
   },
   "outputs": [],
   "source": [
    "#Your task is to create a Python script that analyzes the records to calculate each of the following:\n",
    "\n",
    "#The total number of months included in the dataset.\n",
    "\n",
    "#The average of the changes in Profit/Losses over the entire period.\n",
    "\n",
    "#The greatest increase in profits (date and amount) over the entire period.\n",
    "\n",
    "#The greatest decrease in losses (date and amount) over the entire period."
   ]
  },
  {
   "cell_type": "code",
   "execution_count": 15,
   "id": "963995cc-1e77-42bb-8a30-32bb70b9ef17",
   "metadata": {
    "tags": []
   },
   "outputs": [],
   "source": [
    "# Import the pathlib and csv library\n",
    "from pathlib import Path\n",
    "import csv\n",
    "\n",
    "# Set the file path\n",
    "csv_path = Path('budget_data.csv')\n",
    "answer= Path(\"budget_analysis.txt\")\n",
    "\n",
    "# Initialize variable to hold total uumber of months:\n",
    "total_months = 0\n",
    "\n",
    "# Initialize total_net profit variable\n",
    "total_net_pnl = 0\n",
    "len_net_change=0\n",
    "total_net_change=0\n",
    "greatest_increase = [\"\", 0]\n",
    "greatest_decrease = [\"\", 9999999999999999999]\n",
    "\n",
    "# Open the input path as a file object\n",
    "with open(csv_path, 'r') as csvfile:\n",
    "\n",
    "# Pass in the csv file to the csv.reader() function\n",
    "# (with ',' as the delmiter/separator) and return the csvreader object\n",
    "    csvreader = csv.reader(csvfile, delimiter=',')\n",
    "\n",
    "    # Go to the next row from the start of the file\n",
    "    header = next(csvreader)\n",
    "\n",
    "     # Read each row of data after the header\n",
    "    row=next(csvreader)\n",
    "    pre_net=int(row[1])\n",
    "    total_months+= 1\n",
    "    total_net_pnl = total_net_pnl + int(row[1])\n",
    "\n",
    "     #The total number of months included in the dataset.\n",
    "    for row in csvreader:\n",
    "        #net_change\n",
    "        net_change=int(row[1])-pre_net\n",
    "        total_net_change+=net_change\n",
    "        len_net_change+=1\n",
    "        pre_net=int(row[1])\n",
    "        \n",
    "\n",
    "        #The greatest increase in profits (date and amount) over the entire period.\n",
    "        if net_change > greatest_increase[1]:\n",
    "            greatest_increase[0] = row[0]\n",
    "            greatest_increase[1] = net_change\n",
    "\n",
    "       #The greatest decrease in losses (date and amount) over the entire period.       \n",
    "        if net_change < greatest_decrease[1]:\n",
    "            greatest_decrease[0]=row[0]\n",
    "            greatest_decrease[1]=net_change\n",
    "            \n",
    "    monhtly_average=total_net_change/len_net_change\n",
    "            \n",
    "#export answers: \n",
    "with open(answer,\"w\") as text_file:\n",
    "    text_file.write(f\"financial analysist\\n\")\n",
    "    text_file.write(f\"-------------------\\n\")\n",
    "    text_file.write(f\"Total months:${total_months}\\n\")\n",
    "    text_file.write(f\"Average  Change: ${total_net_pnl}\\n\")\n",
    "    text_file.write(f\"Greatest Increase in Profits: {greatest_increase[0]} {greatest_increase[1]}\\n\")\n",
    "    text_file.write(f\"Greatest Decrease in Profits: {greatest_decrease[0]} {greatest_decrease[1]}\\n\")\n",
    "    "
   ]
  },
  {
   "cell_type": "code",
   "execution_count": null,
   "id": "91d3d1f7-e1e6-4e75-9f1b-e7d23395c3d7",
   "metadata": {},
   "outputs": [],
   "source": []
  },
  {
   "cell_type": "code",
   "execution_count": null,
   "id": "fea663a2-3672-4ad9-8f5e-50a1803f51cd",
   "metadata": {},
   "outputs": [],
   "source": []
  },
  {
   "cell_type": "code",
   "execution_count": null,
   "id": "97098d0b-7daf-4983-940f-4485f44688b3",
   "metadata": {},
   "outputs": [],
   "source": []
  }
 ],
 "metadata": {
  "kernelspec": {
   "display_name": "Python 3",
   "language": "python",
   "name": "python3"
  },
  "language_info": {
   "codemirror_mode": {
    "name": "ipython",
    "version": 3
   },
   "file_extension": ".py",
   "mimetype": "text/x-python",
   "name": "python",
   "nbconvert_exporter": "python",
   "pygments_lexer": "ipython3",
   "version": "3.8.8"
  }
 },
 "nbformat": 4,
 "nbformat_minor": 5
}
